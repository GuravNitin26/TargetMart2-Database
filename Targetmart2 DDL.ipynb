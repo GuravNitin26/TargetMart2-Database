{
    "metadata": {
        "kernelspec": {
            "name": "SQL",
            "display_name": "SQL",
            "language": "sql"
        },
        "language_info": {
            "name": "sql",
            "version": ""
        }
    },
    "nbformat_minor": 2,
    "nbformat": 4,
    "cells": [
        {
            "cell_type": "markdown",
            "source": [
                "# **<u>Creating New Database \"TargetMart2\"</u>**"
            ],
            "metadata": {
                "azdata_cell_guid": "9bfdf051-2cd1-4549-bbb4-6ad7ff295c10"
            },
            "attachments": {}
        },
        {
            "cell_type": "markdown",
            "source": [
                "## **Creating dim and f schema**"
            ],
            "metadata": {
                "azdata_cell_guid": "9c7712c8-6204-4d2d-861f-b7c2eb94925d"
            },
            "attachments": {}
        },
        {
            "cell_type": "code",
            "source": [
                "USE TargetMart2; \r\n",
                "GO\r\n",
                "\r\n",
                "IF NOT EXISTS (SELECT * FROM sys.schemas WHERE name = 'dim' ) \r\n",
                "BEGIN\r\n",
                "\tEXEC sp_executesql N'CREATE SCHEMA dim AUTHORIZATION dbo;'\r\n",
                "END\r\n",
                ";\r\n",
                "\r\n",
                "GO\r\n",
                "\r\n",
                "IF NOT EXISTS (SELECT * FROM sys.schemas WHERE name = 'f' ) \r\n",
                "BEGIN\r\n",
                "\tEXEC sp_executesql N'CREATE SCHEMA f AUTHORIZATION dbo;'\r\n",
                "END\r\n",
                ";\r\n",
                "\r\n",
                "GO\r\n",
                ""
            ],
            "metadata": {
                "azdata_cell_guid": "a2a5798a-cda6-4326-be28-1da9ac40c21f",
                "language": "sql"
            },
            "outputs": [
                {
                    "output_type": "display_data",
                    "data": {
                        "text/html": "Commands completed successfully."
                    },
                    "metadata": {}
                },
                {
                    "output_type": "display_data",
                    "data": {
                        "text/html": "Commands completed successfully."
                    },
                    "metadata": {}
                },
                {
                    "output_type": "display_data",
                    "data": {
                        "text/html": "Commands completed successfully."
                    },
                    "metadata": {}
                },
                {
                    "output_type": "display_data",
                    "data": {
                        "text/html": "Total execution time: 00:00:00.006"
                    },
                    "metadata": {}
                }
            ],
            "execution_count": 5
        },
        {
            "cell_type": "markdown",
            "source": [
                "```\r\n",
                "This Script checks if the '**dim**' and '**f**' schemas exist in the database **TargetMart2**, and if not, it creates them\r\n",
                "```"
            ],
            "metadata": {
                "azdata_cell_guid": "bf15149e-dacd-4885-80da-becc92b2f6ec"
            },
            "attachments": {}
        },
        {
            "cell_type": "markdown",
            "source": [
                "## **Creating dim.Customers Table**"
            ],
            "metadata": {
                "azdata_cell_guid": "742e0ce0-abff-4a66-922d-a581d5617b4c"
            },
            "attachments": {}
        },
        {
            "cell_type": "code",
            "source": [
                "IF NOT EXISTS (SELECT * FROM INFORMATION_SCHEMA.TABLES WHERE TABLE_SCHEMA = 'dim' AND TABLE_NAME = 'Customers')\r\n",
                "BEGIN\r\n",
                "\tCREATE TABLE dim.Customers(\r\n",
                "\tpkCustomer int IDENTITY(1000,1) NOT NULL,\r\n",
                "\tCustomerID nvarchar(5) NOT NULL,\r\n",
                "\tCustomer nvarchar(40) NOT NULL,\r\n",
                "\tCity nvarchar(15) NULL,\r\n",
                "\tCountry nvarchar(15) NULL,\r\n",
                "\tLoadDate DATE NOT NULL,\r\n",
                "\tSourceCountry nvarchar(25) NULL\r\n",
                "\t)\r\n",
                "\t;\r\n",
                "\r\n",
                "\tALTER TABLE dim.Customers\r\n",
                "\tADD CONSTRAINT PK_Customers_LUP PRIMARY KEY(pkCustomer);\r\n",
                "\r\n",
                "\tALTER TABLE dim.Customers\r\n",
                "    ADD CONSTRAINT UC_Customers_ID UNIQUE (CustomerID);\r\n",
                "\r\n",
                "END\r\n",
                "\r\n",
                "\r\n",
                "GO"
            ],
            "metadata": {
                "azdata_cell_guid": "19294480-61b4-4714-80f8-75cbc664d7b3",
                "language": "sql"
            },
            "outputs": [
                {
                    "output_type": "display_data",
                    "data": {
                        "text/html": "Commands completed successfully."
                    },
                    "metadata": {}
                },
                {
                    "output_type": "display_data",
                    "data": {
                        "text/html": "Total execution time: 00:00:00.034"
                    },
                    "metadata": {}
                }
            ],
            "execution_count": 6
        },
        {
            "cell_type": "markdown",
            "source": [
                "```\r\n",
                "This script checks if a table named '**Customers**' exists in the '**dim**' schema. If not, it creates the table with columns **'pkCustomer', 'CustomerID', 'Customer', 'City', 'Country', 'LoadDate', 'SourceCountry'**, and sets constraints for **pkCustomer** as **primary key** and **unique CustomerID.**\r\n",
                "```"
            ],
            "metadata": {
                "azdata_cell_guid": "29afdb13-9bcd-4bb8-92c7-b7482eeb309f"
            },
            "attachments": {}
        },
        {
            "cell_type": "markdown",
            "source": [
                "## **Creating dim.Calendar Table**"
            ],
            "metadata": {
                "azdata_cell_guid": "f996a53b-1db2-4f0e-bf5f-a385beb0abe9"
            },
            "attachments": {}
        },
        {
            "cell_type": "code",
            "source": [
                "IF NOT EXISTS (SELECT * FROM INFORMATION_SCHEMA.TABLES WHERE TABLE_SCHEMA = 'dim' AND TABLE_NAME = 'Calendar')\r\n",
                "BEGIN\r\n",
                "-- Create the Calendar table\r\n",
                "CREATE TABLE dim.Calendar\r\n",
                "(\r\n",
                "    pkCalendar INT NOT NULL,\r\n",
                "    DateValue DATE NOT NULL,\r\n",
                "    Year INT NOT NULL,\r\n",
                "    Quarter INT NOT NULL,\r\n",
                "\tQtr VARCHAR(3) NOT NULL,\r\n",
                "    Month INT NOT NULL,\r\n",
                "    MonthName VARCHAR(10) NOT NULL,\r\n",
                "\tMonthShort VARCHAR(3) NOT NULL,\r\n",
                "    Week INT NOT NULL,\r\n",
                "    Day INT NOT NULL,\r\n",
                "\tDayName VARCHAR(10) NOT NULL,\r\n",
                "\tDayShort VARCHAR(3) NOT NULL,\r\n",
                "    IsWeekday BIT NOT NULL,\r\n",
                "\tWeekday VARCHAR(3) NOT NULL\r\n",
                ");\r\n",
                "\r\n",
                "\tALTER TABLE dim.Calendar\r\n",
                "\tADD CONSTRAINT PK_Calendar_Julian PRIMARY KEY(pkCalendar);\r\n",
                "\r\n",
                "\tALTER TABLE dim.Calendar\r\n",
                "    ADD CONSTRAINT UC_Calendar UNIQUE (DateValue);\r\n",
                "END\r\n",
                "\r\n",
                "GO"
            ],
            "metadata": {
                "azdata_cell_guid": "54c5edff-f021-481f-87c8-42c2321a26e8",
                "language": "sql"
            },
            "outputs": [
                {
                    "output_type": "display_data",
                    "data": {
                        "text/html": "Commands completed successfully."
                    },
                    "metadata": {}
                },
                {
                    "output_type": "display_data",
                    "data": {
                        "text/html": "Total execution time: 00:00:00.073"
                    },
                    "metadata": {}
                }
            ],
            "execution_count": 7
        },
        {
            "cell_type": "markdown",
            "source": [
                "```\r\n",
                "<span style=\"color: var(--vscode-foreground);\">This script checks if a table named '<b>Calendar</b>' exists in the '<b>dim</b>' schema. If not, it creates the '<b>Calendar</b>' table with date-related columns like '<b>pkCalendar</b>', '<b>DateValue</b>', '<b>Year</b>', '<b>Quarter</b>', '<b>MonthName</b>', '<b>Monthshort</b>', '<b>Week</b>', '<b>Day</b>', '<b>DayName</b>' '<b>IsWeekday</b>' and sets constraints for '<b>pkCalender' </b>as<b> primary key</b> and <b>unique DateValue</b></span>\r\n",
                "```"
            ],
            "metadata": {
                "azdata_cell_guid": "6c92c028-f08e-4365-aea8-39413874a369"
            },
            "attachments": {}
        },
        {
            "cell_type": "markdown",
            "source": [
                "## **Creating dim.Shippers Table**"
            ],
            "metadata": {
                "azdata_cell_guid": "8f0b1a03-b499-4c5e-9a30-8047bab81c13"
            },
            "attachments": {}
        },
        {
            "cell_type": "code",
            "source": [
                "IF NOT EXISTS (SELECT * FROM INFORMATION_SCHEMA.TABLES WHERE TABLE_SCHEMA = 'dim' AND TABLE_NAME = 'Shipper')\r\n",
                "BEGIN\r\n",
                "-- Create the Calendar table\r\n",
                "CREATE TABLE dim.Shipper\r\n",
                "(\r\n",
                "    pkShipId int not null,\r\n",
                "\tShipper nvarchar(40) not null,\r\n",
                "\tPhone nvarchar(24) null\r\n",
                ");\r\n",
                "\r\n",
                "\tALTER TABLE dim.Shipper\r\n",
                "\tADD CONSTRAINT PK_Ship PRIMARY KEY(pkShipId);\r\n",
                "END\r\n",
                "\r\n",
                "GO"
            ],
            "metadata": {
                "azdata_cell_guid": "be804ae2-e658-4e4c-897c-da163d3791a3",
                "language": "sql"
            },
            "outputs": [
                {
                    "output_type": "display_data",
                    "data": {
                        "text/html": "Commands completed successfully."
                    },
                    "metadata": {}
                },
                {
                    "output_type": "display_data",
                    "data": {
                        "text/html": "Total execution time: 00:00:00.067"
                    },
                    "metadata": {}
                }
            ],
            "execution_count": 8
        },
        {
            "cell_type": "markdown",
            "source": [
                "```\r\n",
                "<span style=\"color: var(--vscode-foreground);\">This script checks if the 'Shipper' table exists in the '<b>dim</b>' schema. If not, it creates the table with columns '<b>pkShipId</b>,' '<b>Shipper</b>,' and '<b>Phone</b>,' and sets Constraint on '<b>pkShipId</b>' as the <b>primary key.</b>&nbsp;</span>\r\n",
                "```"
            ],
            "metadata": {
                "azdata_cell_guid": "6013e4ce-62d7-4cbd-a60f-669911cb8df6"
            },
            "attachments": {}
        },
        {
            "cell_type": "markdown",
            "source": [
                "## **Creating dim.Products Table**"
            ],
            "metadata": {
                "azdata_cell_guid": "234302a1-7edf-4aae-a554-221f65f90562"
            },
            "attachments": {}
        },
        {
            "cell_type": "code",
            "source": [
                "IF NOT EXISTS (SELECT * FROM INFORMATION_SCHEMA.TABLES WHERE TABLE_SCHEMA = 'dim' AND TABLE_NAME = 'Products')\r\n",
                "BEGIN\r\n",
                "CREATE TABLE dim.Products(\r\n",
                "\tpkProdId int NOT NULL,\r\n",
                "\tProductId int NOT NULL,\r\n",
                "\tProduct nvarchar(50) NOT NULL,\r\n",
                "\tProductCategory nvarchar(25) NOT NULL,\r\n",
                "\tCategoryDesc ntext NULL,\r\n",
                "\tUnitPrice money NULL,\r\n",
                "\tUnitsInStock int NULL,\r\n",
                "\tUnitsOnOrder int NULL,\r\n",
                "\tReorderLevel int NULL,\r\n",
                "\tDiscontinued bit NOT NULL,\r\n",
                "\tReorderFlag nvarchar(3) NOT NULL\r\n",
                ");\r\n",
                "\r\n",
                "\tALTER TABLE dim.Products\r\n",
                "\tADD CONSTRAINT PK_Prods PRIMARY KEY(pkProdId);\r\n",
                "\r\n",
                "\tALTER TABLE dim.Products\r\n",
                "    ADD CONSTRAINT UC_Prods UNIQUE (ProductId);\r\n",
                "END\r\n",
                ";\r\n",
                "GO"
            ],
            "metadata": {
                "azdata_cell_guid": "7a03c95e-5f6d-4e02-8a6b-1967f73e6f95",
                "language": "sql"
            },
            "outputs": [
                {
                    "output_type": "display_data",
                    "data": {
                        "text/html": "Commands completed successfully."
                    },
                    "metadata": {}
                },
                {
                    "output_type": "display_data",
                    "data": {
                        "text/html": "Total execution time: 00:00:00.072"
                    },
                    "metadata": {}
                }
            ],
            "execution_count": 9
        },
        {
            "cell_type": "markdown",
            "source": [
                "```\n",
                "This script checks if the 'Products' table exists in the 'dim' schema. If not, it creates the table with columns like 'pkProdId,' 'ProductId,' 'Product', 'ProductCategory', 'CategoryDesc' 'UnitPrice', 'UnitsInStock', 'UnitsOnOrder', 'ReorderLevel', 'Discounted', 'ReorderFlag'. The script adds constraint on 'pkProdId' as the primary key and sets a unique constraint on 'ProductId.'\n",
                "```"
            ],
            "metadata": {
                "azdata_cell_guid": "ed9185a1-ab19-4aee-b895-b214915cafb9"
            },
            "attachments": {}
        },
        {
            "cell_type": "markdown",
            "source": [
                "## **Creating dim.Employees Table**"
            ],
            "metadata": {
                "azdata_cell_guid": "35e8540a-3954-4e63-8837-565daddd5829"
            },
            "attachments": {}
        },
        {
            "cell_type": "code",
            "source": [
                "IF NOT EXISTS (SELECT * FROM INFORMATION_SCHEMA.TABLES WHERE TABLE_SCHEMA = 'dim' AND TABLE_NAME = 'Employees')\r\n",
                "BEGIN\r\n",
                "CREATE TABLE dim.Employees(\r\n",
                "\tEmployeeID int NOT NULL,\r\n",
                "\tEmployee nvarchar(50) NOT NULL,\r\n",
                "\tTitle nvarchar(30) NULL,\r\n",
                "\tBirthDate datetime NULL,\r\n",
                "\tHireDate datetime NULL,\r\n",
                "\tCity nvarchar(15) NULL,\r\n",
                "\tCountry nvarchar(15) NULL,\r\n",
                "\tReportsTo int NULL\r\n",
                ");\r\n",
                "\tALTER TABLE dim.Employees\r\n",
                "\tADD CONSTRAINT PK_Emp PRIMARY KEY(EmployeeID);\r\n",
                "\r\n",
                "END\r\n",
                "\r\n",
                "GO"
            ],
            "metadata": {
                "azdata_cell_guid": "45116e92-3e52-4372-a05d-d52f1745b4c7",
                "language": "sql"
            },
            "outputs": [
                {
                    "output_type": "display_data",
                    "data": {
                        "text/html": "Commands completed successfully."
                    },
                    "metadata": {}
                },
                {
                    "output_type": "display_data",
                    "data": {
                        "text/html": "Total execution time: 00:00:00.077"
                    },
                    "metadata": {}
                }
            ],
            "execution_count": 10
        },
        {
            "cell_type": "markdown",
            "source": [
                "```\n",
                "This script checks ifthe 'Employees' table exists in the 'dim' schema. If not present, it creates the table with columns like 'EmployeeID,' 'Employee,' 'Title,' 'BirthDate,' 'HireDate,' 'City,' 'Country,' and 'ReportsTo'. The script adds constrint on  'EmployeeID' as the primary key\n",
                "```"
            ],
            "metadata": {
                "azdata_cell_guid": "49c20709-fb37-4bbb-a422-a8c104e94a83"
            },
            "attachments": {}
        },
        {
            "cell_type": "markdown",
            "source": [
                "## **Creating f.OrderPerf Table**"
            ],
            "metadata": {
                "azdata_cell_guid": "acba6f11-4622-4e65-b406-63424779ac5a"
            },
            "attachments": {}
        },
        {
            "cell_type": "code",
            "source": [
                "IF EXISTS (SELECT * FROM INFORMATION_SCHEMA.TABLES WHERE TABLE_SCHEMA = 'f' AND TABLE_NAME = 'OrderPerf')\r\n",
                "BEGIN \r\n",
                "\tDROP TABLE f.OrderPerf;\r\n",
                "END\r\n",
                "\r\n",
                "GO\r\n",
                "\r\n",
                "CREATE TABLE f.OrderPerf(\r\n",
                "\tOrderID int NOT NULL,\r\n",
                "\tfkCalendar int NOT NULL,\r\n",
                "\tfkCustomer int NOT NULL,\r\n",
                "\tfkShipper int NULL,\r\n",
                "\tfkEmployee int NULL,\r\n",
                "\tFreight money NOT NULL,\r\n",
                "\tDaysToShip int NULL,\r\n",
                "\tDaysTilRequired int NULL,\r\n",
                "\tOrderCount int NOT NULL\r\n",
                ");\r\n",
                "\r\n",
                "\r\n",
                "ALTER TABLE f.OrderPerf\r\n",
                "ADD CONSTRAINT PK_ORD PRIMARY KEY(OrderID)\r\n",
                ";\r\n",
                "\r\n",
                "ALTER TABLE f.OrderPerf\r\n",
                "ADD CONSTRAINT FK_ORDtoCAL\r\n",
                "\tFOREIGN KEY (fkCalendar)             \r\n",
                "\t REFERENCES  dim.Calendar(pkCalendar) \r\n",
                ";\r\n",
                "\r\n",
                "ALTER TABLE f.OrderPerf\r\n",
                "ADD CONSTRAINT FK_ORDtoCUST\r\n",
                "\tFOREIGN KEY (fkCustomer)             \r\n",
                "\t REFERENCES  dim.Customers(pkCustomer) \r\n",
                ";\r\n",
                "\r\n",
                "ALTER TABLE f.OrderPerf\r\n",
                "ADD CONSTRAINT FK_ORDtoSHIP\r\n",
                "\tFOREIGN KEY (fkShipper)\r\n",
                "\t REFERENCES dim.Shipper(pkShipId)\r\n",
                ";\r\n",
                "\r\n",
                "ALTER TABLE f.OrderPerf\r\n",
                "ADD CONSTRAINT FK_ORDtoEMP\r\n",
                "\tFOREIGN KEY (fkEmployee)\r\n",
                "\t REFERENCES dim.Employees(EmployeeID)\r\n",
                ";\r\n",
                ""
            ],
            "metadata": {
                "azdata_cell_guid": "207e6fd7-c9a0-482f-b6d6-fc1356a685c0",
                "language": "sql"
            },
            "outputs": [
                {
                    "output_type": "display_data",
                    "data": {
                        "text/html": "Commands completed successfully."
                    },
                    "metadata": {}
                },
                {
                    "output_type": "display_data",
                    "data": {
                        "text/html": "Commands completed successfully."
                    },
                    "metadata": {}
                },
                {
                    "output_type": "display_data",
                    "data": {
                        "text/html": "Total execution time: 00:00:00.111"
                    },
                    "metadata": {}
                }
            ],
            "execution_count": 11
        },
        {
            "cell_type": "markdown",
            "source": [
                "```\n",
                "This script first checks if the 'OrderPerf' table exists in the 'f' schema. If it does, it drops the table. Then, it creates a new 'OrderPerf' table with columns such as 'OrderID,' 'fkCalendar,' 'fkCustomer,' 'fkShipper,' 'fkEmployee,' 'Freight,' 'DaysToShip,' 'DaysTilRequired,' and 'OrderCount'. The script adds constraint on 'OrderID' as primary key and foreign key constraints on 'fkCalender', 'fkCustomer', 'fkShipId', 'fkEmployee' Referencing the table 'OrderPerf' to tables like 'dim.Calendar,' 'dim.Customers,' 'dim.Shipper,' and 'dim.Employees,' \n",
                "```"
            ],
            "metadata": {
                "azdata_cell_guid": "8373934d-19f7-43c8-a1de-09046c5075a7"
            },
            "attachments": {}
        },
        {
            "cell_type": "markdown",
            "source": [
                "Creating f.ProductPerf Table"
            ],
            "metadata": {
                "azdata_cell_guid": "f68e4122-0de8-46d8-a75d-84c1ff327f12"
            },
            "attachments": {}
        },
        {
            "cell_type": "code",
            "source": [
                "IF EXISTS (SELECT * FROM INFORMATION_SCHEMA.TABLES WHERE TABLE_SCHEMA = 'f' AND TABLE_NAME = 'ProductPerf')\r\n",
                "BEGIN \r\n",
                "\tDROP TABLE f.ProductPerf;\r\n",
                "END\r\n",
                "\r\n",
                "CREATE TABLE f.ProductPerf(\r\n",
                "\tOrderID int NOT NULL,\r\n",
                "\tfkOrderDate int NOT NULL,\r\n",
                "\tfkProductID int NOT NULL,\r\n",
                "\tfkCustomerID int NOT NULL,\r\n",
                "\tUnitPrice money NOT NULL,\r\n",
                "\tQuantity smallint NOT NULL,\r\n",
                "\tDiscount float NOT NULL,\r\n",
                "\tDiscFlag int NOT NULL,\r\n",
                "\tLineTotal money NULL\r\n",
                ");\r\n",
                "\r\n",
                "ALTER TABLE f.ProductPerf\r\n",
                "ADD CONSTRAINT PK_ProdPerf PRIMARY KEY(OrderID, fkProductID)\r\n",
                "\r\n",
                "ALTER TABLE f.ProductPerf\r\n",
                "ADD CONSTRAINT FK_PRODtoCAL\r\n",
                "\tFOREIGN KEY (fkOrderDate)\r\n",
                "\t REFERENCES dim.Calendar(pkCalendar)\r\n",
                ";\r\n",
                "\r\n",
                "ALTER TABLE f.ProductPerf\r\n",
                "ADD CONSTRAINT FK_PRODtoPROD\r\n",
                "\tFOREIGN KEY (fkProductID)\r\n",
                "\t REFERENCES dim.Products(pkProdId)\r\n",
                ";\r\n",
                "\r\n",
                "ALTER TABLE f.ProductPerf\r\n",
                "ADD CONSTRAINT FK_PRODtoCUST\r\n",
                "\tFOREIGN KEY (fkCustomerID)\r\n",
                "\t REFERENCES dim.Customers(pkCustomer)"
            ],
            "metadata": {
                "azdata_cell_guid": "a1761dde-0631-4632-bb9b-74f87762aa49",
                "language": "sql"
            },
            "outputs": [
                {
                    "output_type": "display_data",
                    "data": {
                        "text/html": "Commands completed successfully."
                    },
                    "metadata": {}
                },
                {
                    "output_type": "display_data",
                    "data": {
                        "text/html": "Total execution time: 00:00:00.029"
                    },
                    "metadata": {}
                }
            ],
            "execution_count": 13
        },
        {
            "cell_type": "markdown",
            "source": [
                "```\n",
                "This script checks if the  the 'ProductPerf' table in the 'f' schema. If it exists, it drops the table. Then, it creates a new 'ProductPerf' table with columns like 'OrderID,' 'fkOrderDate,' 'fkProductID,' 'fkCustomerID,' 'UnitPrice,' 'Quantity,' 'Discount,' 'DiscFlag,' and 'LineTotal.' The script establishes a composite primary key on 'OrderID' and 'fkProductID,' and foreign key constraints linking 'ProductPerf' to 'dim.Calendar,' 'dim.Products,' and 'dim.Customers,'\n",
                "```"
            ],
            "metadata": {
                "azdata_cell_guid": "c647b2aa-020e-4060-9fe5-3dd01425b8a4"
            },
            "attachments": {}
        }
    ]
}